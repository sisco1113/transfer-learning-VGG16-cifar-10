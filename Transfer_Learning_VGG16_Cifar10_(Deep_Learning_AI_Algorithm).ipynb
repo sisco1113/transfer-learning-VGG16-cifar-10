{
  "nbformat": 4,
  "nbformat_minor": 0,
  "metadata": {
    "colab": {
      "provenance": [],
      "gpuType": "T4",
      "include_colab_link": true
    },
    "kernelspec": {
      "name": "python3",
      "display_name": "Python 3"
    },
    "language_info": {
      "name": "python"
    },
    "accelerator": "GPU"
  },
  "cells": [
    {
      "cell_type": "markdown",
      "metadata": {
        "id": "view-in-github",
        "colab_type": "text"
      },
      "source": [
        "<a href=\"https://colab.research.google.com/github/sisco1113/transfer-learning-VGG16-cifar-10/blob/main/Transfer_Learning_VGG16_Cifar10_(Deep_Learning_AI_Algorithm).ipynb\" target=\"_parent\"><img src=\"https://colab.research.google.com/assets/colab-badge.svg\" alt=\"Open In Colab\"/></a>"
      ]
    },
    {
      "cell_type": "code",
      "source": [
        "from keras import datasets, layers, models\n",
        "from keras.utils import to_categorical\n",
        "from keras.models import Sequential\n",
        "from keras.layers import Dense, Dropout, BatchNormalization\n",
        "from keras.layers import Conv2D, MaxPooling2D, Flatten\n",
        "from keras.callbacks import EarlyStopping\n",
        "from keras.applications import VGG16\n",
        "import matplotlib.pyplot as plt\n",
        "import numpy as np\n",
        "\n",
        "# Load CIFAR-10 dataset\n",
        "(train_images, train_labels), (test_images, test_labels) = datasets.cifar10.load_data()\n",
        "\n",
        "# Show the shapes of the data\n",
        "print(\"Train_images shape:\", train_images.shape)\n",
        "print(\"Train_labels shape:\", train_labels.shape)\n",
        "print(\"Test_images shape:\", test_images.shape)\n",
        "print(\"Test_labels shape:\", test_labels.shape)\n",
        "\n",
        "# Display i-th image\n",
        "idx = 5\n",
        "image = train_images[idx]\n",
        "label = train_labels[idx]\n",
        "\n",
        "plt.figure()\n",
        "plt.imshow(image)\n",
        "plt.title('Label {}'.format(label))\n",
        "plt.colorbar()\n",
        "plt.grid(False)\n",
        "plt.show()\n",
        "\n",
        "X_train = train_images\n",
        "X_test = test_images\n",
        "Y_train = to_categorical(train_labels)\n",
        "Y_test = to_categorical(test_labels)\n",
        "\n",
        "## Loading VGG16 model\n",
        "base_model = VGG16(weights=\"imagenet\", include_top=False, input_shape=train_images[0].shape)\n",
        "base_model.trainable = False\n",
        "\n",
        "flatten_layer = Flatten()\n",
        "dense_layer_1 = Dense(50, activation='relu')\n",
        "batch_norm_layer_1 = BatchNormalization()\n",
        "dense_layer_2 = Dense(20, activation='relu')\n",
        "prediction_layer = Dense(10, activation='softmax')\n",
        "\n",
        "model = models.Sequential([\n",
        "    base_model,\n",
        "    flatten_layer,\n",
        "    dense_layer_1,\n",
        "    batch_norm_layer_1,\n",
        "    dense_layer_2,\n",
        "    prediction_layer\n",
        "])\n",
        "\n",
        "model.compile(\n",
        "    optimizer='adam',\n",
        "    loss='categorical_crossentropy',\n",
        "    metrics=['accuracy'],\n",
        ")\n",
        "\n",
        "es = EarlyStopping(monitor='val_accuracy', mode='max', patience=5, restore_best_weights=True)\n",
        "\n",
        "model.fit(X_train, Y_train, epochs=10, validation_split=0.2, batch_size=32, callbacks=[es])\n",
        "\n",
        "test_loss, test_accuracy = model.evaluate(X_test, Y_test)\n",
        "print(\"Accuracy:\", test_accuracy)\n"
      ],
      "metadata": {
        "colab": {
          "base_uri": "https://localhost:8080/",
          "height": 972
        },
        "id": "z-iPb5N2e35V",
        "outputId": "d62ecd09-a086-4dec-fa05-3bb7138bcde8"
      },
      "execution_count": null,
      "outputs": [
        {
          "output_type": "stream",
          "name": "stdout",
          "text": [
            "Downloading data from https://www.cs.toronto.edu/~kriz/cifar-10-python.tar.gz\n",
            "170498071/170498071 [==============================] - 3s 0us/step\n",
            "Train_images shape: (50000, 32, 32, 3)\n",
            "Train_labels shape: (50000, 1)\n",
            "Test_images shape: (10000, 32, 32, 3)\n",
            "Test_labels shape: (10000, 1)\n"
          ]
        },
        {
          "output_type": "display_data",
          "data": {
            "text/plain": [
              "<Figure size 640x480 with 2 Axes>"
            ],
            "image/png": "[encoded data removed]"
          },
          "metadata": {}
        },
        {
          "output_type": "stream",
          "name": "stdout",
          "text": [
            "Downloading data from https://storage.googleapis.com/tensorflow/keras-applications/vgg16/vgg16_weights_tf_dim_ordering_tf_kernels_notop.h5\n",
            "58889256/58889256 [==============================] - 1s 0us/step\n",
            "Epoch 1/10\n",
            "1250/1250 [==============================] - 22s 11ms/step - loss: 1.4437 - accuracy: 0.5018 - val_loss: 1.2156 - val_accuracy: 0.5815\n",
            "Epoch 2/10\n",
            "1250/1250 [==============================] - 12s 10ms/step - loss: 1.1648 - accuracy: 0.5942 - val_loss: 1.1498 - val_accuracy: 0.6062\n",
            "Epoch 3/10\n",
            "1250/1250 [==============================] - 12s 10ms/step - loss: 1.1111 - accuracy: 0.6125 - val_loss: 1.1432 - val_accuracy: 0.6075\n",
            "Epoch 4/10\n",
            "1250/1250 [==============================] - 12s 10ms/step - loss: 1.0722 - accuracy: 0.6274 - val_loss: 1.1293 - val_accuracy: 0.6124\n",
            "Epoch 5/10\n",
            "1250/1250 [==============================] - 12s 10ms/step - loss: 1.0429 - accuracy: 0.6374 - val_loss: 1.1333 - val_accuracy: 0.6056\n",
            "Epoch 6/10\n",
            "1250/1250 [==============================] - 13s 11ms/step - loss: 1.0170 - accuracy: 0.6460 - val_loss: 1.1356 - val_accuracy: 0.6058\n",
            "Epoch 7/10\n",
            "1250/1250 [==============================] - 13s 10ms/step - loss: 0.9980 - accuracy: 0.6525 - val_loss: 1.1278 - val_accuracy: 0.6117\n",
            "Epoch 8/10\n",
            "1250/1250 [==============================] - 13s 11ms/step - loss: 0.9783 - accuracy: 0.6578 - val_loss: 1.1391 - val_accuracy: 0.6106\n",
            "Epoch 9/10\n",
            "1250/1250 [==============================] - 13s 10ms/step - loss: 0.9622 - accuracy: 0.6618 - val_loss: 1.1445 - val_accuracy: 0.6102\n",
            "313/313 [==============================] - 3s 8ms/step - loss: 1.1193 - accuracy: 0.6205\n",
            "Accuracy: 0.6205000281333923\n"
          ]
        }
      ]
    }
  ]
}